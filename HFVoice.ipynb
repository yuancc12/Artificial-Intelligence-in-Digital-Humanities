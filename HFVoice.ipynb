{
 "cells": [
  {
   "cell_type": "markdown",
   "metadata": {},
   "source": [
    "## 匯入模組\n"
   ]
  },
  {
   "cell_type": "code",
   "execution_count": null,
   "metadata": {},
   "outputs": [],
   "source": [
    "!pip install flask --quiet\n",
    "!pip install flask-ngrok --quiet\n",
    "!pip install openai==0.28\n",
    "\n",
    "print(\"Completed!\")"
   ]
  },
  {
   "cell_type": "code",
   "execution_count": null,
   "metadata": {},
   "outputs": [],
   "source": [
    "import torch\n",
    "from transformers import AutoModelForSpeechSeq2Seq, AutoProcessor, pipeline\n",
    "from datasets import load_dataset\n",
    "import openai\n",
    "import pandas\n",
    "import tempfile\n",
    "import os\n",
    "import subprocess  # 用來調用 ffmpeg 進行音頻轉換\n",
    "from flask import Flask, request, jsonify\n",
    "from linebot import LineBotApi, WebhookHandler\n",
    "from linebot.exceptions import InvalidSignatureError\n",
    "from linebot.models import MessageEvent, TextMessage, TextSendMessage, AudioMessage\n",
    "import speech_recognition as sr\n",
    "import dateparser\n",
    "from datetime import datetime\n",
    "import openpyxl\n",
    "from openpyxl import Workbook\n",
    "import schedule\n",
    "import time\n",
    "import uuid\n",
    "import threading\n",
    "from flask_ngrok import run_with_ngrok\n",
    "  "
   ]
  },
  {
   "cell_type": "markdown",
   "metadata": {},
   "source": [
    "##  LINE Messaging API 設定"
   ]
  },
  {
   "cell_type": "code",
   "execution_count": null,
   "metadata": {},
   "outputs": [],
   "source": [
    "line_bot_api = LineBotApi('Line Token')\n",
    "handler = WebhookHandler('Line Secret')"
   ]
  },
  {
   "cell_type": "markdown",
   "metadata": {},
   "source": [
    "## OpenAI key 設定"
   ]
  },
  {
   "cell_type": "code",
   "execution_count": null,
   "metadata": {},
   "outputs": [],
   "source": [
    "# OpenAI API Key\n",
    "openai.api_key = 'OpenAPIKey'"
   ]
  },
  {
   "cell_type": "markdown",
   "metadata": {},
   "source": [
    "# 初始化 Flask 和 LINE Bot"
   ]
  },
  {
   "cell_type": "code",
   "execution_count": null,
   "metadata": {},
   "outputs": [],
   "source": [
    "app = Flask(__name__) #app name"
   ]
  },
  {
   "cell_type": "markdown",
   "metadata": {},
   "source": [
    "## 接收 LINE 的 Webhook 事件"
   ]
  },
  {
   "cell_type": "code",
   "execution_count": null,
   "metadata": {},
   "outputs": [],
   "source": [
    "@app.route(\"/\", methods=['POST'])\n",
    "def callback():\n",
    "    # 確認 LINE 的簽名是否正確\n",
    "    signature = request.headers['X-Line-Signature']\n",
    "    body = request.get_data(as_text=True)\n",
    "\n",
    "    try:\n",
    "        handler.handle(body, signature)\n",
    "    except InvalidSignatureError:\n",
    "        return jsonify({'message': 'Invalid signature'}), 400\n",
    "    return 'OK',200"
   ]
  },
  {
   "cell_type": "markdown",
   "metadata": {},
   "source": [
    "# 解析時間的函數"
   ]
  },
  {
   "cell_type": "code",
   "execution_count": null,
   "metadata": {},
   "outputs": [],
   "source": [
    "def parse_time(user_input_time):\n",
    "    parsed_time = dateparser.parse(user_input_time)\n",
    "    if parsed_time:\n",
    "        return parsed_time.strftime('%Y-%m-%d %H:%M:%S')\n",
    "    return datetime.now().strftime('%Y-%m-%d %H:%M:%S')"
   ]
  },
  {
   "cell_type": "markdown",
   "metadata": {},
   "source": [
    "## 處理收到的文字訊息"
   ]
  },
  {
   "cell_type": "code",
   "execution_count": null,
   "metadata": {},
   "outputs": [],
   "source": [
    "user_states = {}\n",
    "@handler.add(MessageEvent, message=TextMessage)\n",
    "def handle_text_message(event):\n",
    "    text = event.message.text\n",
    "    user_id = event.source.user_id\n",
    "    if text.startswith(\"會議回顧\"):\n",
    "        keyword = text.replace(\"會議回顧\", \"\").strip()\n",
    "        response_message = search_summary(keyword)\n",
    "        line_bot_api.reply_message(event.reply_token, TextSendMessage(text=response_message))\n",
    "    if user_states.get(user_id) == \"Reminders\":\n",
    "        formatted_time = parse_time(\"現在\")\n",
    "        response = openai.ChatCompletion.create(\n",
    "            model=\"gpt-3.5-turbo\",\n",
    "            messages=[\n",
    "                {\"role\": \"system\", \"content\": \"你是一個有用的提醒功能機器人，幫助用戶記錄需提醒的事情\"},\n",
    "                {\"role\": \"user\", \"content\": f\"請把以下提醒的事項整理成Time和Content，時間格式為 YYYY-MM-DD HH:MM，並以Database語法存入，只需要寫語法就好，不需要額外補充而且時間一定要準確：現在時間是：{formatted_time},内容是{text}\"}\n",
    "            ]\n",
    "        )\n",
    "        \n",
    "        response_text = response['choices'][0]['message']['content']\n",
    "        #line_bot_api.reply_message(event.reply_token, TextSendMessage(text=response_text))\n",
    "        # 保存提醒事項和轉換文本到 Excel\n",
    "        response_message = handle_transcript_and_reminder(user_id, response_text, text)\n",
    "        line_bot_api.reply_message(event.reply_token, TextSendMessage(text=response_message))\n",
    "        user_states[user_id] = \"\"\n",
    "\n",
    "    elif text == \"請輸入會議音檔\" and user_states.get(user_id) not in [\"Recording\", \"Reminders\",\"Summary_check\"]:\n",
    "        user_states[user_id] = \"Recording\"\n",
    "\n",
    "    elif text == \"請輸入需提醒事項\" and user_states.get(user_id) not in [\"Recording\", \"Reminders\",\"Summary_check\"]:\n",
    "        user_states[user_id] = \"Reminders\"\n",
    "    elif text == \"會議回顧\" and user_states.get(user_id) not in [\"Recording\", \"Reminders\",\"Summary_check\"]:\n",
    "        print('會議回顧中')\n",
    "        user_states[user_id] = \"Summary_check\"\n",
    "\n",
    "def summarize_with_openai(transcript):\n",
    "    response = openai.ChatCompletion.create(\n",
    "        model=\"gpt-3.5-turbo\",\n",
    "        messages=[\n",
    "            {\"role\": \"system\", \"content\": \"你是一個有用的會議記錄助手，幫助用戶開會的重點進行記錄，列點給我，不要多說別的東西。\"},\n",
    "            {\"role\": \"user\", \"content\": f\"請總結以下文本的重點：{transcript}\"}\n",
    "        ]\n",
    "    )\n",
    "    \n",
    "    return response['choices'][0]['message']['content']\n",
    "\n"
   ]
  },
  {
   "cell_type": "markdown",
   "metadata": {},
   "source": [
    "## 處理音檔"
   ]
  },
  {
   "cell_type": "code",
   "execution_count": null,
   "metadata": {},
   "outputs": [],
   "source": [
    "import os\n",
    "import subprocess\n",
    "import uuid\n",
    "from concurrent.futures import ThreadPoolExecutor\n",
    "from transformers import pipeline, AutoModelForSpeechSeq2Seq, AutoProcessor\n",
    "import torch\n",
    "\n",
    "# 音訊訊息處理函數\n",
    "@handler.add(MessageEvent, message=AudioMessage)\n",
    "def handle_audio_message(event):\n",
    "    user_id = event.source.user_id\n",
    "    message_id = event.message.id\n",
    "    message_content = line_bot_api.get_message_content(message_id)\n",
    "\n",
    "    # 儲存音頻到本地\n",
    "    current_directory = os.getcwd()\n",
    "    audio_path = os.path.join(current_directory, f'audio_file_{uuid.uuid4()}.m4a')\n",
    "\n",
    "    # 將音檔內容寫入指定位置\n",
    "    with open(audio_path, 'wb') as f:\n",
    "        f.write(message_content.content)\n",
    "\n",
    "    try:\n",
    "        # 將 .m4a 文件轉換為 .wav 文件\n",
    "        wav_path = convert_to_wav(audio_path)\n",
    "        # 使用本地語音轉文字方法將語音轉為文本\n",
    "        transcript = changetotext(wav_path)\n",
    "\n",
    "        # 根據用戶狀態進行相應處理\n",
    "        if user_states.get(user_id) == \"Recording\":\n",
    "            summary = summarize_with_openai(transcript)\n",
    "            print('已成功存到資料庫')\n",
    "            line_bot_api.reply_message(event.reply_token, TextSendMessage(text=summary))\n",
    "        elif user_states.get(user_id) == \"Reminders\":\n",
    "            formatted_time = parse_time(\"現在\")\n",
    "            response = openai.ChatCompletion.create(\n",
    "                model=\"gpt-3.5-turbo\",\n",
    "                messages=[\n",
    "                    {\"role\": \"system\", \"content\": \"你是一個有用的提醒功能機器人，幫助用戶記錄需提醒的事情\"},\n",
    "                    {\"role\": \"user\", \"content\": f\"請把以下提醒的事項整理成Time和Content，時間格式為 YYYY-MM-DD HH:MM，並以Database語法存入，只需要寫語法就好，不需要額外補充而且時間一定要準確：現在時間是：{formatted_time},内容是{transcript}\"}\n",
    "                ]\n",
    "            )\n",
    "            response_text = response['choices'][0]['message']['content']\n",
    "            response_message = handle_transcript_and_reminder(user_id, response_text)\n",
    "            line_bot_api.reply_message(event.reply_token, TextSendMessage(text=response_message))\n",
    "        user_states[user_id] = \"\"\n",
    "        \n",
    "    except Exception as e:\n",
    "        line_bot_api.reply_message(event.reply_token, TextSendMessage(text=f\"抱歉，無法處理您的錄音。錯誤信息: {str(e)}\"))\n",
    "\n",
    "# 將 .m4a 轉換為 .wav 的函數\n",
    "def convert_to_wav(audio_path):\n",
    "    wav_path = audio_path.replace('.m4a', '.wav')\n",
    "    ffmpeg_path = r\"C:\\ffmpeg\\bin\\ffmpeg.exe\"\n",
    "    try:\n",
    "        print(\"開始轉換音頻...\")\n",
    "        result = subprocess.run(\n",
    "            [ffmpeg_path, \"-i\", audio_path, wav_path],\n",
    "            capture_output=True, text=True\n",
    "        )\n",
    "        \n",
    "        if result.returncode != 0:\n",
    "            raise Exception(f\"音頻轉換失敗: {result.stderr}\")\n",
    "        print(\"轉換成功\")\n",
    "        return wav_path\n",
    "    except subprocess.CalledProcessError as e:\n",
    "        raise Exception(f\"音頻轉換失敗: {e}\")\n",
    "\n",
    "# 使用 Whisper 模型進行轉錄\n",
    "def changetotext(wav_path):\n",
    "    device = \"cuda:0\" if torch.cuda.is_available() else \"cpu\"\n",
    "    torch_dtype = torch.float16 if torch.cuda.is_available() else torch.float32\n",
    "\n",
    "    model_id = \"openai/whisper-large-v3-turbo\"\n",
    "\n",
    "    model = AutoModelForSpeechSeq2Seq.from_pretrained(\n",
    "        model_id, torch_dtype=torch_dtype, low_cpu_mem_usage=True\n",
    "    )\n",
    "    model.to(device)\n",
    "\n",
    "    processor = AutoProcessor.from_pretrained(model_id)\n",
    "\n",
    "    pipe = pipeline(\n",
    "        \"automatic-speech-recognition\",\n",
    "        model=model,\n",
    "        tokenizer=processor.tokenizer,\n",
    "        feature_extractor=processor.feature_extractor,\n",
    "        torch_dtype=torch_dtype,\n",
    "        device=device\n",
    "    )\n",
    "\n",
    "    # 分割音訊檔案\n",
    "    def split_audio(wav_path, segment_length=25):\n",
    "        output_dir = \"audio_segments\"\n",
    "        os.makedirs(output_dir, exist_ok=True)\n",
    "        subprocess.run([\n",
    "            \"ffmpeg\", \"-i\", wav_path,\n",
    "            \"-f\", \"segment\",\n",
    "            \"-segment_time\", str(segment_length),\n",
    "            os.path.join(output_dir, \"segment_%03d.wav\")\n",
    "        ])\n",
    "        return [os.path.join(output_dir, f) for f in sorted(os.listdir(output_dir)) if f.endswith(\".wav\")]\n",
    "\n",
    "    # 轉錄單個音訊片段\n",
    "    def transcribe_segment(segment_path):\n",
    "        result = pipe(segment_path, generate_kwargs={\"language\": \"Chinese\"})\n",
    "        return result[\"text\"] if \"text\" in result else \"\"\n",
    "    \n",
    "    # 並行處理所有片段並合併結果\n",
    "    def transcribe_all_segments(segments, chunk_size=4):\n",
    "        with ThreadPoolExecutor(max_workers=chunk_size) as executor:\n",
    "            results = list(executor.map(transcribe_segment, segments))\n",
    "        return \" \".join(results)\n",
    "\n",
    "    # 進行音訊分割並轉錄\n",
    "    segments = split_audio(wav_path)\n",
    "    transcript = transcribe_all_segments(segments, chunk_size=4)\n",
    "\n",
    "    print(\"Transcript: \" + transcript)\n",
    "    return transcript"
   ]
  },
  {
   "cell_type": "markdown",
   "metadata": {},
   "source": [
    "# 定期檢查提醒"
   ]
  },
  {
   "cell_type": "code",
   "execution_count": null,
   "metadata": {},
   "outputs": [],
   "source": [
    "def check_reminders():\n",
    "    excel_file_path = 'reminders_database.xlsx'\n",
    "    workbook = openpyxl.load_workbook(excel_file_path)\n",
    "    sheet = workbook.active\n",
    "\n",
    "    # 獲取當前時間\n",
    "    current_time = datetime.now().strftime('%Y-%m-%d %H:%M')\n",
    "\n",
    "     # 遍歷表格，檢查時間是否到達\n",
    "    for row in sheet.iter_rows(min_row=2, values_only=True):  # 從第二行開始，忽略標題行\n",
    "        user_id, reminder_time, reminder_content = row[:3]  # 根據新順序提取 user_id、時間和內容\n",
    "        if reminder_time == current_time:\n",
    "            # 發送提醒消息，確保 user_id 有效\n",
    "            if user_id:\n",
    "                line_bot_api.push_message(user_id, TextSendMessage(text=f\"提醒時間到！內容是: {reminder_content}\"))\n",
    "            else:\n",
    "                print(f\"無效的 user_id，無法發送提醒給: {reminder_content}\")\n",
    "\n",
    "# 開始一個定期執行的任務來檢查提醒\n",
    "def start_scheduler():\n",
    "    schedule.every(1)"
   ]
  },
  {
   "cell_type": "markdown",
   "metadata": {},
   "source": [
    "\n",
    "# 啟動 Flask 應用"
   ]
  },
  {
   "cell_type": "code",
   "execution_count": null,
   "metadata": {},
   "outputs": [],
   "source": [
    "if __name__ == \"__main__\":\n",
    "    app.run(port=5000, debug=True, use_reloader=False)\n"
   ]
  }
 ],
 "metadata": {
  "kernelspec": {
   "display_name": "Python 3",
   "language": "python",
   "name": "python3"
  },
  "language_info": {
   "codemirror_mode": {
    "name": "ipython",
    "version": 3
   },
   "file_extension": ".py",
   "mimetype": "text/x-python",
   "name": "python",
   "nbconvert_exporter": "python",
   "pygments_lexer": "ipython3",
   "version": "3.12.3"
  }
 },
 "nbformat": 4,
 "nbformat_minor": 2
}
